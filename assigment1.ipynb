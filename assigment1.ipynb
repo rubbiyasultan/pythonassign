{
 "cells": [
  {
   "cell_type": "code",
   "execution_count": 13,
   "metadata": {},
   "outputs": [
    {
     "name": "stdout",
     "output_type": "stream",
     "text": [
      "Twinkle, twinkle, little star, \n",
      "\tHow I wonder what you are! \n",
      "\t\tUp above the world so high, \n",
      "\t\tLike a diamond in the sky. \n",
      "Twinkle, twinkle, little star, \n",
      "\tHow I wonder what you are\n"
     ]
    }
   ],
   "source": [
    "#Question 1\n",
    "print(\"Twinkle, twinkle, little star, \\n\\tHow I wonder what you are! \\n\\t\\tUp above the world so high, \\n\\t\\tLike a diamond in the sky. \\nTwinkle, twinkle, little star, \\n\\tHow I wonder what you are\")"
   ]
  },
  {
   "cell_type": "code",
   "execution_count": 14,
   "metadata": {},
   "outputs": [
    {
     "name": "stdout",
     "output_type": "stream",
     "text": [
      "Python Version\n",
      "3.7.3 (default, Apr 24 2019, 13:20:13) [MSC v.1915 32 bit (Intel)]\n"
     ]
    }
   ],
   "source": [
    "#Question 2\n",
    "import sys\n",
    "print(\"Python Version\")\n",
    "print(sys.version)"
   ]
  },
  {
   "cell_type": "code",
   "execution_count": 10,
   "metadata": {},
   "outputs": [
    {
     "name": "stdout",
     "output_type": "stream",
     "text": [
      "Current Date and Time = 03/11/2019 02:09:11\n"
     ]
    }
   ],
   "source": [
    "#Question 3\n",
    "import datetime\n",
    "now = datetime.datetime.now()\n",
    "dt_string = now.strftime(\"%d/%m/%Y %H:%M:%S\")\n",
    "print(\"Current Date and Time =\", dt_string)"
   ]
  },
  {
   "cell_type": "code",
   "execution_count": 12,
   "metadata": {},
   "outputs": [
    {
     "name": "stdout",
     "output_type": "stream",
     "text": [
      "Input the radius of the circle:4\n",
      "The area of the circle with radius 4.0 is 50.26548245743669\n"
     ]
    }
   ],
   "source": [
    "#Question 4\n",
    "from math import pi\n",
    "radius = float(input(\"Input the radius of the circle:\"))\n",
    "print(\"The area of the circle with radius \" +str(radius) + \" is \" + str(pi * radius**2))"
   ]
  },
  {
   "cell_type": "code",
   "execution_count": 7,
   "metadata": {},
   "outputs": [
    {
     "name": "stdout",
     "output_type": "stream",
     "text": [
      "first name in reverse abeera\n",
      "last name in reverse fatla\n",
      "abeera fatla\n"
     ]
    }
   ],
   "source": [
    "#Question 5\n",
    "name1 = input('first name in reverse ' )\n",
    "name2 = input('last name in reverse ' )\n",
    "print (name1 +' '+ name2)"
   ]
  },
  {
   "cell_type": "code",
   "execution_count": 8,
   "metadata": {},
   "outputs": [
    {
     "name": "stdout",
     "output_type": "stream",
     "text": [
      "enter the first no:78\n",
      "enter the second no:50\n"
     ]
    }
   ],
   "source": [
    "#question 6\n",
    "x = int(input('enter the first no:'))\n",
    "y = int(input('enter the second no:'))\n",
    "\n",
    "sum =x+y"
   ]
  },
  {
   "cell_type": "code",
   "execution_count": 9,
   "metadata": {},
   "outputs": [
    {
     "name": "stdout",
     "output_type": "stream",
     "text": [
      "128\n"
     ]
    }
   ],
   "source": [
    "print (sum)\n"
   ]
  },
  {
   "cell_type": "code",
   "execution_count": null,
   "metadata": {},
   "outputs": [],
   "source": []
  }
 ],
 "metadata": {
  "kernelspec": {
   "display_name": "Python 3",
   "language": "python",
   "name": "python3"
  },
  "language_info": {
   "codemirror_mode": {
    "name": "ipython",
    "version": 3
   },
   "file_extension": ".py",
   "mimetype": "text/x-python",
   "name": "python",
   "nbconvert_exporter": "python",
   "pygments_lexer": "ipython3",
   "version": "3.7.4"
  }
 },
 "nbformat": 4,
 "nbformat_minor": 2
}
