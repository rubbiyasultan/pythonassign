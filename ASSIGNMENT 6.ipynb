{
 "cells": [
  {
   "cell_type": "markdown",
   "metadata": {},
   "source": [
    "# QUESTION 1: DEFINE OBJECT ORIENTED PROGRAMMING LANGUAGE.\n",
    "Object-oriented programming (OOP) is a programming language model in which programs are organized around data, or objects, rather than functions and logic.An object can be defined as a data field that has unique attributes and behavior. "
   ]
  },
  {
   "cell_type": "markdown",
   "metadata": {},
   "source": [
    "# QUESTION 2: LIST DOWN THE BENEFITS OF OOP.\n",
    "-Simplicity: software objects model real world objects, so the complexity is reduced and the program structure is very clear\n",
    "\n",
    "-Modularity: each object forms a separate entity whose internal workings are decoupled from other parts of the system\n",
    "\n",
    "-Modifiability: it is easy to make minor changes in the data representation or the procedures in an OO program. Changes inside a class do not affect any other part of a program, since the only public interface that the external world has to a class is through the use of methods\n",
    "\n",
    "-Extensibility: adding new features or responding to changing operating environments can be solved by introducing a few new objects and modifying some existing ones\n",
    "\n",
    "-Maintainability: objects can be maintained separately, making locating and fixing problems easier\n",
    "\n",
    "-Re-usability: objects can be reused in different programs"
   ]
  },
  {
   "cell_type": "markdown",
   "metadata": {},
   "source": [
    "# QUESTION 3: DIFFERENTIATE BETWEEN FUNCTION AND METHOD\n",
    "A function is a piece of code that is called by name. It can be passed data to operate on (i.e. the parameters) and can optionally return data (the return value). All data that is passed to a function is explicitly passed.\n",
    "\n",
    "A method is a piece of code that is called by a name that is associated with an object. In most respects it is identical to a function except for two key differences:\n",
    "\n",
    "1. A method is implicitly passed the object on which it was called.\n",
    "\n",
    "2. A method is able to operate on data that is contained within the class (remembering that an object is an instance of a class "
   ]
  },
  {
   "cell_type": "markdown",
   "metadata": {},
   "source": [
    "# QUESTION 4: DEFINE THE FOLLOWING TERMS\n",
    "1. CLASS:\n",
    "A Class is a description of a group of objects with common properties (attributes), behavior (operations), relationships, and semantics. A class is an abstraction. An object is an instance of a class.\n",
    "Example of a Class\n",
    "Class: Course\n",
    "Properties: Name, Location, Days Offered, Credit Hours, Professor\n",
    "Behavior: Add Student, Delete Student, Get Course Roster, Determine If Full.\n",
    "\n",
    "2. OBJECT:\n",
    "An Object represents an entity either physical (box), conceptual (chemical process), or software (list).\n",
    "An Object is a concept, an abstraction, a thing with sharp boundaries and meaning for an application. It has\n",
    "-Identity - a name\n",
    "-State - determined by the values of its attributes\n",
    "-Behavior - determined by how the object acts or reacts to requests (messages) from other objects.\n",
    "\n",
    "3. ATTRIBUTE:\n",
    "An Attribute is a named property of a class. It has a type. It describes the range of values that that property may hold.\n",
    "\n",
    "4. BEHAVIOUR:\n",
    "A class's behavior determines how an instance of that class operates; for example, how it will \"react\" if asked to do something by another class or object or if its internal state changes. Behavior is the only way objects can do anything to themselves or have anything done to them."
   ]
  },
  {
   "cell_type": "code",
   "execution_count": 2,
   "metadata": {},
   "outputs": [
    {
     "name": "stdout",
     "output_type": "stream",
     "text": [
      "OPTRA Chevrolet 2010 Black 2\n",
      "Passo is stopped.\n",
      "WagonR is now being driven.\n"
     ]
    }
   ],
   "source": [
    "#QUESTION 5\n",
    "class Car:\n",
    "    def __init__(self, name, brand, model, color, doors):\n",
    "        self.name = name\n",
    "        self.brand = brand\n",
    "        self.model = model\n",
    "        self.color =  color\n",
    "        self.doors = doors\n",
    "    def printCar(self):\n",
    "        print(self.name,self.brand, self.model, self.color, self.doors)\n",
    "    def drive(self):\n",
    "        print(self.name, \"is now being driven.\")\n",
    "    def stop(self):\n",
    "        print(self.name, \"is stopped.\")\n",
    "car1 = Car(\"Accord\", \"Honda\", \"2012\", \"Black\", 4)\n",
    "car2 = Car(\"OPTRA\", \"Chevrolet\", \"2010\", \"Black\", 2)\n",
    "car3 = Car(\"WagonR\", \"Suzuki\", \"2016\", \"White\", 4)\n",
    "car4 = Car(\"Corolla\", \"Toyota\", \"2012\", \"Grey\", 2)\n",
    "car5 = Car(\"Passo\", \"Toyota\", \"2019\", \"Blue\", 4)\n",
    "car2.printCar()\n",
    "car5.stop()\n",
    "car3.drive()"
   ]
  },
  {
   "cell_type": "code",
   "execution_count": null,
   "metadata": {},
   "outputs": [],
   "source": []
  }
 ],
 "metadata": {
  "kernelspec": {
   "display_name": "Python 3",
   "language": "python",
   "name": "python3"
  },
  "language_info": {
   "codemirror_mode": {
    "name": "ipython",
    "version": 3
   },
   "file_extension": ".py",
   "mimetype": "text/x-python",
   "name": "python",
   "nbconvert_exporter": "python",
   "pygments_lexer": "ipython3",
   "version": "3.7.4"
  }
 },
 "nbformat": 4,
 "nbformat_minor": 2
}
